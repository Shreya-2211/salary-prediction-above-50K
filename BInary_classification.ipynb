{
 "cells": [
  {
   "cell_type": "markdown",
   "id": "8a7adfae",
   "metadata": {},
   "source": [
    "## Salary above 50K prediction and analysis\n",
    "\n",
    "The dataset there are 2 dataset with train and test data seperately given. we need to create a model that predicts the salary if greater than 50k. It is a classification problem"
   ]
  },
  {
   "cell_type": "code",
   "execution_count": 141,
   "id": "29abf881",
   "metadata": {},
   "outputs": [
    {
     "data": {
      "text/html": [
       "<div>\n",
       "<style scoped>\n",
       "    .dataframe tbody tr th:only-of-type {\n",
       "        vertical-align: middle;\n",
       "    }\n",
       "\n",
       "    .dataframe tbody tr th {\n",
       "        vertical-align: top;\n",
       "    }\n",
       "\n",
       "    .dataframe thead th {\n",
       "        text-align: right;\n",
       "    }\n",
       "</style>\n",
       "<table border=\"1\" class=\"dataframe\">\n",
       "  <thead>\n",
       "    <tr style=\"text-align: right;\">\n",
       "      <th></th>\n",
       "      <th>age</th>\n",
       "      <th>workclass</th>\n",
       "      <th>fnlwgt</th>\n",
       "      <th>education</th>\n",
       "      <th>educational-num</th>\n",
       "      <th>marital-status</th>\n",
       "      <th>occupation</th>\n",
       "      <th>relationship</th>\n",
       "      <th>race</th>\n",
       "      <th>gender</th>\n",
       "      <th>capital-gain</th>\n",
       "      <th>capital-loss</th>\n",
       "      <th>hours-per-week</th>\n",
       "      <th>native-country</th>\n",
       "      <th>income_&gt;50K</th>\n",
       "    </tr>\n",
       "  </thead>\n",
       "  <tbody>\n",
       "    <tr>\n",
       "      <th>0</th>\n",
       "      <td>False</td>\n",
       "      <td>False</td>\n",
       "      <td>False</td>\n",
       "      <td>False</td>\n",
       "      <td>False</td>\n",
       "      <td>False</td>\n",
       "      <td>False</td>\n",
       "      <td>False</td>\n",
       "      <td>False</td>\n",
       "      <td>False</td>\n",
       "      <td>False</td>\n",
       "      <td>False</td>\n",
       "      <td>False</td>\n",
       "      <td>False</td>\n",
       "      <td>False</td>\n",
       "    </tr>\n",
       "    <tr>\n",
       "      <th>1</th>\n",
       "      <td>False</td>\n",
       "      <td>False</td>\n",
       "      <td>False</td>\n",
       "      <td>False</td>\n",
       "      <td>False</td>\n",
       "      <td>False</td>\n",
       "      <td>False</td>\n",
       "      <td>False</td>\n",
       "      <td>False</td>\n",
       "      <td>False</td>\n",
       "      <td>False</td>\n",
       "      <td>False</td>\n",
       "      <td>False</td>\n",
       "      <td>False</td>\n",
       "      <td>False</td>\n",
       "    </tr>\n",
       "    <tr>\n",
       "      <th>2</th>\n",
       "      <td>False</td>\n",
       "      <td>False</td>\n",
       "      <td>False</td>\n",
       "      <td>False</td>\n",
       "      <td>False</td>\n",
       "      <td>False</td>\n",
       "      <td>False</td>\n",
       "      <td>False</td>\n",
       "      <td>False</td>\n",
       "      <td>False</td>\n",
       "      <td>False</td>\n",
       "      <td>False</td>\n",
       "      <td>False</td>\n",
       "      <td>False</td>\n",
       "      <td>False</td>\n",
       "    </tr>\n",
       "    <tr>\n",
       "      <th>3</th>\n",
       "      <td>False</td>\n",
       "      <td>False</td>\n",
       "      <td>False</td>\n",
       "      <td>False</td>\n",
       "      <td>False</td>\n",
       "      <td>False</td>\n",
       "      <td>False</td>\n",
       "      <td>False</td>\n",
       "      <td>False</td>\n",
       "      <td>False</td>\n",
       "      <td>False</td>\n",
       "      <td>False</td>\n",
       "      <td>False</td>\n",
       "      <td>False</td>\n",
       "      <td>False</td>\n",
       "    </tr>\n",
       "    <tr>\n",
       "      <th>4</th>\n",
       "      <td>False</td>\n",
       "      <td>False</td>\n",
       "      <td>False</td>\n",
       "      <td>False</td>\n",
       "      <td>False</td>\n",
       "      <td>False</td>\n",
       "      <td>False</td>\n",
       "      <td>False</td>\n",
       "      <td>False</td>\n",
       "      <td>False</td>\n",
       "      <td>False</td>\n",
       "      <td>False</td>\n",
       "      <td>False</td>\n",
       "      <td>False</td>\n",
       "      <td>False</td>\n",
       "    </tr>\n",
       "  </tbody>\n",
       "</table>\n",
       "</div>"
      ],
      "text/plain": [
       "     age  workclass  fnlwgt  education  educational-num  marital-status  \\\n",
       "0  False      False   False      False            False           False   \n",
       "1  False      False   False      False            False           False   \n",
       "2  False      False   False      False            False           False   \n",
       "3  False      False   False      False            False           False   \n",
       "4  False      False   False      False            False           False   \n",
       "\n",
       "   occupation  relationship   race  gender  capital-gain  capital-loss  \\\n",
       "0       False         False  False   False         False         False   \n",
       "1       False         False  False   False         False         False   \n",
       "2       False         False  False   False         False         False   \n",
       "3       False         False  False   False         False         False   \n",
       "4       False         False  False   False         False         False   \n",
       "\n",
       "   hours-per-week  native-country  income_>50K  \n",
       "0           False           False        False  \n",
       "1           False           False        False  \n",
       "2           False           False        False  \n",
       "3           False           False        False  \n",
       "4           False           False        False  "
      ]
     },
     "execution_count": 141,
     "metadata": {},
     "output_type": "execute_result"
    }
   ],
   "source": [
    "#importing required libraries\n",
    "\n",
    "import numpy as np\n",
    "import pandas as pd\n",
    "import matplotlib.pyplot as plt\n",
    "import seaborn as sns\n",
    "%matplotlib inline \n",
    "\n",
    "#importing required files\n",
    "df_test=pd.read_csv(\"test.csv\")\n",
    "df_train = pd.read_csv(\"train.csv\")\n",
    "df.head()"
   ]
  },
  {
   "cell_type": "code",
   "execution_count": 142,
   "id": "6cdf809a",
   "metadata": {},
   "outputs": [
    {
     "data": {
      "text/plain": [
       "age                 int64\n",
       "workclass          object\n",
       "fnlwgt              int64\n",
       "education          object\n",
       "educational-num     int64\n",
       "marital-status     object\n",
       "occupation         object\n",
       "relationship       object\n",
       "race               object\n",
       "gender             object\n",
       "capital-gain        int64\n",
       "capital-loss        int64\n",
       "hours-per-week      int64\n",
       "native-country     object\n",
       "dtype: object"
      ]
     },
     "execution_count": 142,
     "metadata": {},
     "output_type": "execute_result"
    }
   ],
   "source": [
    "df_test.dtypes"
   ]
  },
  {
   "cell_type": "code",
   "execution_count": 143,
   "id": "29e3e6ab",
   "metadata": {},
   "outputs": [
    {
     "name": "stdout",
     "output_type": "stream",
     "text": [
      "<class 'pandas.core.frame.DataFrame'>\n",
      "RangeIndex: 43957 entries, 0 to 43956\n",
      "Data columns (total 15 columns):\n",
      " #   Column           Non-Null Count  Dtype \n",
      "---  ------           --------------  ----- \n",
      " 0   age              43957 non-null  int64 \n",
      " 1   workclass        41459 non-null  object\n",
      " 2   fnlwgt           43957 non-null  int64 \n",
      " 3   education        43957 non-null  object\n",
      " 4   educational-num  43957 non-null  int64 \n",
      " 5   marital-status   43957 non-null  object\n",
      " 6   occupation       41451 non-null  object\n",
      " 7   relationship     43957 non-null  object\n",
      " 8   race             43957 non-null  object\n",
      " 9   gender           43957 non-null  object\n",
      " 10  capital-gain     43957 non-null  int64 \n",
      " 11  capital-loss     43957 non-null  int64 \n",
      " 12  hours-per-week   43957 non-null  int64 \n",
      " 13  native-country   43194 non-null  object\n",
      " 14  income_>50K      43957 non-null  int64 \n",
      "dtypes: int64(7), object(8)\n",
      "memory usage: 5.0+ MB\n"
     ]
    }
   ],
   "source": [
    "df_train.info()"
   ]
  },
  {
   "cell_type": "code",
   "execution_count": 144,
   "id": "87d29cc8",
   "metadata": {},
   "outputs": [
    {
     "name": "stdout",
     "output_type": "stream",
     "text": [
      "<class 'pandas.core.frame.DataFrame'>\n",
      "RangeIndex: 899 entries, 0 to 898\n",
      "Data columns (total 14 columns):\n",
      " #   Column           Non-Null Count  Dtype \n",
      "---  ------           --------------  ----- \n",
      " 0   age              899 non-null    int64 \n",
      " 1   workclass        899 non-null    object\n",
      " 2   fnlwgt           899 non-null    int64 \n",
      " 3   education        899 non-null    object\n",
      " 4   educational-num  899 non-null    int64 \n",
      " 5   marital-status   899 non-null    object\n",
      " 6   occupation       899 non-null    object\n",
      " 7   relationship     899 non-null    object\n",
      " 8   race             899 non-null    object\n",
      " 9   gender           899 non-null    object\n",
      " 10  capital-gain     899 non-null    int64 \n",
      " 11  capital-loss     899 non-null    int64 \n",
      " 12  hours-per-week   899 non-null    int64 \n",
      " 13  native-country   899 non-null    object\n",
      "dtypes: int64(6), object(8)\n",
      "memory usage: 98.5+ KB\n"
     ]
    }
   ],
   "source": [
    "df_test.info()"
   ]
  },
  {
   "cell_type": "code",
   "execution_count": 145,
   "id": "531bcb43",
   "metadata": {},
   "outputs": [
    {
     "data": {
      "text/html": [
       "<div>\n",
       "<style scoped>\n",
       "    .dataframe tbody tr th:only-of-type {\n",
       "        vertical-align: middle;\n",
       "    }\n",
       "\n",
       "    .dataframe tbody tr th {\n",
       "        vertical-align: top;\n",
       "    }\n",
       "\n",
       "    .dataframe thead th {\n",
       "        text-align: right;\n",
       "    }\n",
       "</style>\n",
       "<table border=\"1\" class=\"dataframe\">\n",
       "  <thead>\n",
       "    <tr style=\"text-align: right;\">\n",
       "      <th></th>\n",
       "      <th>age</th>\n",
       "      <th>workclass</th>\n",
       "      <th>fnlwgt</th>\n",
       "      <th>education</th>\n",
       "      <th>educational-num</th>\n",
       "      <th>marital-status</th>\n",
       "      <th>occupation</th>\n",
       "      <th>relationship</th>\n",
       "      <th>race</th>\n",
       "      <th>gender</th>\n",
       "      <th>capital-gain</th>\n",
       "      <th>capital-loss</th>\n",
       "      <th>hours-per-week</th>\n",
       "      <th>native-country</th>\n",
       "    </tr>\n",
       "  </thead>\n",
       "  <tbody>\n",
       "    <tr>\n",
       "      <th>0</th>\n",
       "      <td>39</td>\n",
       "      <td>Self-emp-not-inc</td>\n",
       "      <td>327120</td>\n",
       "      <td>HS-grad</td>\n",
       "      <td>9</td>\n",
       "      <td>Married-civ-spouse</td>\n",
       "      <td>Craft-repair</td>\n",
       "      <td>Husband</td>\n",
       "      <td>White</td>\n",
       "      <td>Male</td>\n",
       "      <td>0</td>\n",
       "      <td>0</td>\n",
       "      <td>40</td>\n",
       "      <td>Portugal</td>\n",
       "    </tr>\n",
       "    <tr>\n",
       "      <th>1</th>\n",
       "      <td>32</td>\n",
       "      <td>Private</td>\n",
       "      <td>123253</td>\n",
       "      <td>Assoc-acdm</td>\n",
       "      <td>12</td>\n",
       "      <td>Married-civ-spouse</td>\n",
       "      <td>Craft-repair</td>\n",
       "      <td>Husband</td>\n",
       "      <td>White</td>\n",
       "      <td>Male</td>\n",
       "      <td>0</td>\n",
       "      <td>0</td>\n",
       "      <td>42</td>\n",
       "      <td>United-States</td>\n",
       "    </tr>\n",
       "    <tr>\n",
       "      <th>2</th>\n",
       "      <td>47</td>\n",
       "      <td>Private</td>\n",
       "      <td>232628</td>\n",
       "      <td>HS-grad</td>\n",
       "      <td>9</td>\n",
       "      <td>Married-civ-spouse</td>\n",
       "      <td>Craft-repair</td>\n",
       "      <td>Husband</td>\n",
       "      <td>Black</td>\n",
       "      <td>Male</td>\n",
       "      <td>0</td>\n",
       "      <td>0</td>\n",
       "      <td>40</td>\n",
       "      <td>United-States</td>\n",
       "    </tr>\n",
       "    <tr>\n",
       "      <th>3</th>\n",
       "      <td>19</td>\n",
       "      <td>Private</td>\n",
       "      <td>374262</td>\n",
       "      <td>12th</td>\n",
       "      <td>8</td>\n",
       "      <td>Never-married</td>\n",
       "      <td>Handlers-cleaners</td>\n",
       "      <td>Own-child</td>\n",
       "      <td>White</td>\n",
       "      <td>Male</td>\n",
       "      <td>0</td>\n",
       "      <td>0</td>\n",
       "      <td>20</td>\n",
       "      <td>United-States</td>\n",
       "    </tr>\n",
       "    <tr>\n",
       "      <th>4</th>\n",
       "      <td>46</td>\n",
       "      <td>Self-emp-not-inc</td>\n",
       "      <td>311231</td>\n",
       "      <td>HS-grad</td>\n",
       "      <td>9</td>\n",
       "      <td>Married-civ-spouse</td>\n",
       "      <td>Farming-fishing</td>\n",
       "      <td>Husband</td>\n",
       "      <td>White</td>\n",
       "      <td>Male</td>\n",
       "      <td>0</td>\n",
       "      <td>0</td>\n",
       "      <td>40</td>\n",
       "      <td>United-States</td>\n",
       "    </tr>\n",
       "  </tbody>\n",
       "</table>\n",
       "</div>"
      ],
      "text/plain": [
       "   age         workclass  fnlwgt   education  educational-num  \\\n",
       "0   39  Self-emp-not-inc  327120     HS-grad                9   \n",
       "1   32           Private  123253  Assoc-acdm               12   \n",
       "2   47           Private  232628     HS-grad                9   \n",
       "3   19           Private  374262        12th                8   \n",
       "4   46  Self-emp-not-inc  311231     HS-grad                9   \n",
       "\n",
       "       marital-status         occupation relationship   race gender  \\\n",
       "0  Married-civ-spouse       Craft-repair      Husband  White   Male   \n",
       "1  Married-civ-spouse       Craft-repair      Husband  White   Male   \n",
       "2  Married-civ-spouse       Craft-repair      Husband  Black   Male   \n",
       "3       Never-married  Handlers-cleaners    Own-child  White   Male   \n",
       "4  Married-civ-spouse    Farming-fishing      Husband  White   Male   \n",
       "\n",
       "   capital-gain  capital-loss  hours-per-week native-country  \n",
       "0             0             0              40       Portugal  \n",
       "1             0             0              42  United-States  \n",
       "2             0             0              40  United-States  \n",
       "3             0             0              20  United-States  \n",
       "4             0             0              40  United-States  "
      ]
     },
     "execution_count": 145,
     "metadata": {},
     "output_type": "execute_result"
    }
   ],
   "source": [
    "df_test.head()"
   ]
  },
  {
   "cell_type": "code",
   "execution_count": 146,
   "id": "5447d1e0",
   "metadata": {},
   "outputs": [
    {
     "data": {
      "text/html": [
       "<div>\n",
       "<style scoped>\n",
       "    .dataframe tbody tr th:only-of-type {\n",
       "        vertical-align: middle;\n",
       "    }\n",
       "\n",
       "    .dataframe tbody tr th {\n",
       "        vertical-align: top;\n",
       "    }\n",
       "\n",
       "    .dataframe thead th {\n",
       "        text-align: right;\n",
       "    }\n",
       "</style>\n",
       "<table border=\"1\" class=\"dataframe\">\n",
       "  <thead>\n",
       "    <tr style=\"text-align: right;\">\n",
       "      <th></th>\n",
       "      <th>age</th>\n",
       "      <th>workclass</th>\n",
       "      <th>fnlwgt</th>\n",
       "      <th>education</th>\n",
       "      <th>educational-num</th>\n",
       "      <th>marital-status</th>\n",
       "      <th>occupation</th>\n",
       "      <th>relationship</th>\n",
       "      <th>race</th>\n",
       "      <th>gender</th>\n",
       "      <th>capital-gain</th>\n",
       "      <th>capital-loss</th>\n",
       "      <th>hours-per-week</th>\n",
       "      <th>native-country</th>\n",
       "      <th>income_&gt;50K</th>\n",
       "    </tr>\n",
       "  </thead>\n",
       "  <tbody>\n",
       "    <tr>\n",
       "      <th>0</th>\n",
       "      <td>67</td>\n",
       "      <td>Private</td>\n",
       "      <td>366425</td>\n",
       "      <td>Doctorate</td>\n",
       "      <td>16</td>\n",
       "      <td>Divorced</td>\n",
       "      <td>Exec-managerial</td>\n",
       "      <td>Not-in-family</td>\n",
       "      <td>White</td>\n",
       "      <td>Male</td>\n",
       "      <td>99999</td>\n",
       "      <td>0</td>\n",
       "      <td>60</td>\n",
       "      <td>United-States</td>\n",
       "      <td>1</td>\n",
       "    </tr>\n",
       "    <tr>\n",
       "      <th>1</th>\n",
       "      <td>17</td>\n",
       "      <td>Private</td>\n",
       "      <td>244602</td>\n",
       "      <td>12th</td>\n",
       "      <td>8</td>\n",
       "      <td>Never-married</td>\n",
       "      <td>Other-service</td>\n",
       "      <td>Own-child</td>\n",
       "      <td>White</td>\n",
       "      <td>Male</td>\n",
       "      <td>0</td>\n",
       "      <td>0</td>\n",
       "      <td>15</td>\n",
       "      <td>United-States</td>\n",
       "      <td>0</td>\n",
       "    </tr>\n",
       "    <tr>\n",
       "      <th>2</th>\n",
       "      <td>31</td>\n",
       "      <td>Private</td>\n",
       "      <td>174201</td>\n",
       "      <td>Bachelors</td>\n",
       "      <td>13</td>\n",
       "      <td>Married-civ-spouse</td>\n",
       "      <td>Exec-managerial</td>\n",
       "      <td>Husband</td>\n",
       "      <td>White</td>\n",
       "      <td>Male</td>\n",
       "      <td>0</td>\n",
       "      <td>0</td>\n",
       "      <td>40</td>\n",
       "      <td>United-States</td>\n",
       "      <td>1</td>\n",
       "    </tr>\n",
       "    <tr>\n",
       "      <th>3</th>\n",
       "      <td>58</td>\n",
       "      <td>State-gov</td>\n",
       "      <td>110199</td>\n",
       "      <td>7th-8th</td>\n",
       "      <td>4</td>\n",
       "      <td>Married-civ-spouse</td>\n",
       "      <td>Transport-moving</td>\n",
       "      <td>Husband</td>\n",
       "      <td>White</td>\n",
       "      <td>Male</td>\n",
       "      <td>0</td>\n",
       "      <td>0</td>\n",
       "      <td>40</td>\n",
       "      <td>United-States</td>\n",
       "      <td>0</td>\n",
       "    </tr>\n",
       "    <tr>\n",
       "      <th>4</th>\n",
       "      <td>25</td>\n",
       "      <td>State-gov</td>\n",
       "      <td>149248</td>\n",
       "      <td>Some-college</td>\n",
       "      <td>10</td>\n",
       "      <td>Never-married</td>\n",
       "      <td>Other-service</td>\n",
       "      <td>Not-in-family</td>\n",
       "      <td>Black</td>\n",
       "      <td>Male</td>\n",
       "      <td>0</td>\n",
       "      <td>0</td>\n",
       "      <td>40</td>\n",
       "      <td>United-States</td>\n",
       "      <td>0</td>\n",
       "    </tr>\n",
       "  </tbody>\n",
       "</table>\n",
       "</div>"
      ],
      "text/plain": [
       "   age  workclass  fnlwgt     education  educational-num      marital-status  \\\n",
       "0   67    Private  366425     Doctorate               16            Divorced   \n",
       "1   17    Private  244602          12th                8       Never-married   \n",
       "2   31    Private  174201     Bachelors               13  Married-civ-spouse   \n",
       "3   58  State-gov  110199       7th-8th                4  Married-civ-spouse   \n",
       "4   25  State-gov  149248  Some-college               10       Never-married   \n",
       "\n",
       "         occupation   relationship   race gender  capital-gain  capital-loss  \\\n",
       "0   Exec-managerial  Not-in-family  White   Male         99999             0   \n",
       "1     Other-service      Own-child  White   Male             0             0   \n",
       "2   Exec-managerial        Husband  White   Male             0             0   \n",
       "3  Transport-moving        Husband  White   Male             0             0   \n",
       "4     Other-service  Not-in-family  Black   Male             0             0   \n",
       "\n",
       "   hours-per-week native-country  income_>50K  \n",
       "0              60  United-States            1  \n",
       "1              15  United-States            0  \n",
       "2              40  United-States            1  \n",
       "3              40  United-States            0  \n",
       "4              40  United-States            0  "
      ]
     },
     "execution_count": 146,
     "metadata": {},
     "output_type": "execute_result"
    }
   ],
   "source": [
    "df_train.head()"
   ]
  },
  {
   "cell_type": "code",
   "execution_count": 147,
   "id": "78dba09b",
   "metadata": {},
   "outputs": [
    {
     "data": {
      "text/html": [
       "<div>\n",
       "<style scoped>\n",
       "    .dataframe tbody tr th:only-of-type {\n",
       "        vertical-align: middle;\n",
       "    }\n",
       "\n",
       "    .dataframe tbody tr th {\n",
       "        vertical-align: top;\n",
       "    }\n",
       "\n",
       "    .dataframe thead th {\n",
       "        text-align: right;\n",
       "    }\n",
       "</style>\n",
       "<table border=\"1\" class=\"dataframe\">\n",
       "  <thead>\n",
       "    <tr style=\"text-align: right;\">\n",
       "      <th></th>\n",
       "      <th>age</th>\n",
       "      <th>workclass</th>\n",
       "      <th>fnlwgt</th>\n",
       "      <th>education</th>\n",
       "      <th>educational-num</th>\n",
       "      <th>marital-status</th>\n",
       "      <th>occupation</th>\n",
       "      <th>relationship</th>\n",
       "      <th>race</th>\n",
       "      <th>gender</th>\n",
       "      <th>capital-gain</th>\n",
       "      <th>capital-loss</th>\n",
       "      <th>hours-per-week</th>\n",
       "      <th>native-country</th>\n",
       "      <th>income_&gt;50K</th>\n",
       "    </tr>\n",
       "  </thead>\n",
       "  <tbody>\n",
       "    <tr>\n",
       "      <th>0</th>\n",
       "      <td>67</td>\n",
       "      <td>Private</td>\n",
       "      <td>366425</td>\n",
       "      <td>Doctorate</td>\n",
       "      <td>16</td>\n",
       "      <td>Divorced</td>\n",
       "      <td>Exec-managerial</td>\n",
       "      <td>Not-in-family</td>\n",
       "      <td>White</td>\n",
       "      <td>Male</td>\n",
       "      <td>99999</td>\n",
       "      <td>0</td>\n",
       "      <td>60</td>\n",
       "      <td>United-States</td>\n",
       "      <td>1.0</td>\n",
       "    </tr>\n",
       "    <tr>\n",
       "      <th>1</th>\n",
       "      <td>17</td>\n",
       "      <td>Private</td>\n",
       "      <td>244602</td>\n",
       "      <td>12th</td>\n",
       "      <td>8</td>\n",
       "      <td>Never-married</td>\n",
       "      <td>Other-service</td>\n",
       "      <td>Own-child</td>\n",
       "      <td>White</td>\n",
       "      <td>Male</td>\n",
       "      <td>0</td>\n",
       "      <td>0</td>\n",
       "      <td>15</td>\n",
       "      <td>United-States</td>\n",
       "      <td>0.0</td>\n",
       "    </tr>\n",
       "    <tr>\n",
       "      <th>2</th>\n",
       "      <td>31</td>\n",
       "      <td>Private</td>\n",
       "      <td>174201</td>\n",
       "      <td>Bachelors</td>\n",
       "      <td>13</td>\n",
       "      <td>Married-civ-spouse</td>\n",
       "      <td>Exec-managerial</td>\n",
       "      <td>Husband</td>\n",
       "      <td>White</td>\n",
       "      <td>Male</td>\n",
       "      <td>0</td>\n",
       "      <td>0</td>\n",
       "      <td>40</td>\n",
       "      <td>United-States</td>\n",
       "      <td>1.0</td>\n",
       "    </tr>\n",
       "    <tr>\n",
       "      <th>3</th>\n",
       "      <td>58</td>\n",
       "      <td>State-gov</td>\n",
       "      <td>110199</td>\n",
       "      <td>7th-8th</td>\n",
       "      <td>4</td>\n",
       "      <td>Married-civ-spouse</td>\n",
       "      <td>Transport-moving</td>\n",
       "      <td>Husband</td>\n",
       "      <td>White</td>\n",
       "      <td>Male</td>\n",
       "      <td>0</td>\n",
       "      <td>0</td>\n",
       "      <td>40</td>\n",
       "      <td>United-States</td>\n",
       "      <td>0.0</td>\n",
       "    </tr>\n",
       "    <tr>\n",
       "      <th>4</th>\n",
       "      <td>25</td>\n",
       "      <td>State-gov</td>\n",
       "      <td>149248</td>\n",
       "      <td>Some-college</td>\n",
       "      <td>10</td>\n",
       "      <td>Never-married</td>\n",
       "      <td>Other-service</td>\n",
       "      <td>Not-in-family</td>\n",
       "      <td>Black</td>\n",
       "      <td>Male</td>\n",
       "      <td>0</td>\n",
       "      <td>0</td>\n",
       "      <td>40</td>\n",
       "      <td>United-States</td>\n",
       "      <td>0.0</td>\n",
       "    </tr>\n",
       "  </tbody>\n",
       "</table>\n",
       "</div>"
      ],
      "text/plain": [
       "   age  workclass  fnlwgt     education  educational-num      marital-status  \\\n",
       "0   67    Private  366425     Doctorate               16            Divorced   \n",
       "1   17    Private  244602          12th                8       Never-married   \n",
       "2   31    Private  174201     Bachelors               13  Married-civ-spouse   \n",
       "3   58  State-gov  110199       7th-8th                4  Married-civ-spouse   \n",
       "4   25  State-gov  149248  Some-college               10       Never-married   \n",
       "\n",
       "         occupation   relationship   race gender  capital-gain  capital-loss  \\\n",
       "0   Exec-managerial  Not-in-family  White   Male         99999             0   \n",
       "1     Other-service      Own-child  White   Male             0             0   \n",
       "2   Exec-managerial        Husband  White   Male             0             0   \n",
       "3  Transport-moving        Husband  White   Male             0             0   \n",
       "4     Other-service  Not-in-family  Black   Male             0             0   \n",
       "\n",
       "   hours-per-week native-country  income_>50K  \n",
       "0              60  United-States          1.0  \n",
       "1              15  United-States          0.0  \n",
       "2              40  United-States          1.0  \n",
       "3              40  United-States          0.0  \n",
       "4              40  United-States          0.0  "
      ]
     },
     "execution_count": 147,
     "metadata": {},
     "output_type": "execute_result"
    }
   ],
   "source": [
    "final_df=df_train.append(df_test)\n",
    "final_df.head()"
   ]
  },
  {
   "cell_type": "code",
   "execution_count": 148,
   "id": "87864c9c",
   "metadata": {},
   "outputs": [
    {
     "data": {
      "text/plain": [
       "age                0\n",
       "workclass          0\n",
       "fnlwgt             0\n",
       "education          0\n",
       "educational-num    0\n",
       "marital-status     0\n",
       "occupation         0\n",
       "relationship       0\n",
       "race               0\n",
       "gender             0\n",
       "capital-gain       0\n",
       "capital-loss       0\n",
       "hours-per-week     0\n",
       "native-country     0\n",
       "income_>50K        0\n",
       "dtype: int64"
      ]
     },
     "execution_count": 148,
     "metadata": {},
     "output_type": "execute_result"
    }
   ],
   "source": [
    "final_df.isin(['?']).sum()"
   ]
  },
  {
   "cell_type": "code",
   "execution_count": 149,
   "id": "f60bf873",
   "metadata": {
    "scrolled": true
   },
   "outputs": [
    {
     "data": {
      "text/plain": [
       "age                   0\n",
       "workclass          2498\n",
       "fnlwgt                0\n",
       "education             0\n",
       "educational-num       0\n",
       "marital-status        0\n",
       "occupation         2506\n",
       "relationship          0\n",
       "race                  0\n",
       "gender                0\n",
       "capital-gain          0\n",
       "capital-loss          0\n",
       "hours-per-week        0\n",
       "native-country      763\n",
       "income_>50K         899\n",
       "dtype: int64"
      ]
     },
     "execution_count": 149,
     "metadata": {},
     "output_type": "execute_result"
    }
   ],
   "source": [
    "final_df.isnull().sum()"
   ]
  },
  {
   "cell_type": "code",
   "execution_count": 150,
   "id": "7c5c4f41",
   "metadata": {},
   "outputs": [
    {
     "data": {
      "text/html": [
       "<div>\n",
       "<style scoped>\n",
       "    .dataframe tbody tr th:only-of-type {\n",
       "        vertical-align: middle;\n",
       "    }\n",
       "\n",
       "    .dataframe tbody tr th {\n",
       "        vertical-align: top;\n",
       "    }\n",
       "\n",
       "    .dataframe thead th {\n",
       "        text-align: right;\n",
       "    }\n",
       "</style>\n",
       "<table border=\"1\" class=\"dataframe\">\n",
       "  <thead>\n",
       "    <tr style=\"text-align: right;\">\n",
       "      <th></th>\n",
       "      <th>age</th>\n",
       "      <th>workclass</th>\n",
       "      <th>fnlwgt</th>\n",
       "      <th>education</th>\n",
       "      <th>educational-num</th>\n",
       "      <th>marital-status</th>\n",
       "      <th>occupation</th>\n",
       "      <th>relationship</th>\n",
       "      <th>race</th>\n",
       "      <th>gender</th>\n",
       "      <th>capital-gain</th>\n",
       "      <th>capital-loss</th>\n",
       "      <th>hours-per-week</th>\n",
       "      <th>native-country</th>\n",
       "      <th>income_&gt;50K</th>\n",
       "    </tr>\n",
       "  </thead>\n",
       "  <tbody>\n",
       "    <tr>\n",
       "      <th>894</th>\n",
       "      <td>27</td>\n",
       "      <td>Private</td>\n",
       "      <td>302406</td>\n",
       "      <td>Masters</td>\n",
       "      <td>14</td>\n",
       "      <td>Married-civ-spouse</td>\n",
       "      <td>Prof-specialty</td>\n",
       "      <td>Husband</td>\n",
       "      <td>White</td>\n",
       "      <td>Male</td>\n",
       "      <td>0</td>\n",
       "      <td>0</td>\n",
       "      <td>55</td>\n",
       "      <td>United-States</td>\n",
       "      <td>NaN</td>\n",
       "    </tr>\n",
       "    <tr>\n",
       "      <th>895</th>\n",
       "      <td>17</td>\n",
       "      <td>Private</td>\n",
       "      <td>218124</td>\n",
       "      <td>11th</td>\n",
       "      <td>7</td>\n",
       "      <td>Never-married</td>\n",
       "      <td>Sales</td>\n",
       "      <td>Own-child</td>\n",
       "      <td>White</td>\n",
       "      <td>Female</td>\n",
       "      <td>0</td>\n",
       "      <td>0</td>\n",
       "      <td>20</td>\n",
       "      <td>United-States</td>\n",
       "      <td>NaN</td>\n",
       "    </tr>\n",
       "    <tr>\n",
       "      <th>896</th>\n",
       "      <td>24</td>\n",
       "      <td>Private</td>\n",
       "      <td>127139</td>\n",
       "      <td>Some-college</td>\n",
       "      <td>10</td>\n",
       "      <td>Never-married</td>\n",
       "      <td>Adm-clerical</td>\n",
       "      <td>Own-child</td>\n",
       "      <td>White</td>\n",
       "      <td>Female</td>\n",
       "      <td>0</td>\n",
       "      <td>0</td>\n",
       "      <td>40</td>\n",
       "      <td>United-States</td>\n",
       "      <td>NaN</td>\n",
       "    </tr>\n",
       "    <tr>\n",
       "      <th>897</th>\n",
       "      <td>35</td>\n",
       "      <td>Private</td>\n",
       "      <td>132879</td>\n",
       "      <td>Some-college</td>\n",
       "      <td>10</td>\n",
       "      <td>Married-civ-spouse</td>\n",
       "      <td>Tech-support</td>\n",
       "      <td>Husband</td>\n",
       "      <td>White</td>\n",
       "      <td>Male</td>\n",
       "      <td>0</td>\n",
       "      <td>0</td>\n",
       "      <td>40</td>\n",
       "      <td>United-States</td>\n",
       "      <td>NaN</td>\n",
       "    </tr>\n",
       "    <tr>\n",
       "      <th>898</th>\n",
       "      <td>37</td>\n",
       "      <td>Local-gov</td>\n",
       "      <td>44694</td>\n",
       "      <td>Masters</td>\n",
       "      <td>14</td>\n",
       "      <td>Married-civ-spouse</td>\n",
       "      <td>Prof-specialty</td>\n",
       "      <td>Wife</td>\n",
       "      <td>White</td>\n",
       "      <td>Female</td>\n",
       "      <td>0</td>\n",
       "      <td>0</td>\n",
       "      <td>45</td>\n",
       "      <td>United-States</td>\n",
       "      <td>NaN</td>\n",
       "    </tr>\n",
       "  </tbody>\n",
       "</table>\n",
       "</div>"
      ],
      "text/plain": [
       "     age  workclass  fnlwgt     education  educational-num  \\\n",
       "894   27    Private  302406       Masters               14   \n",
       "895   17    Private  218124          11th                7   \n",
       "896   24    Private  127139  Some-college               10   \n",
       "897   35    Private  132879  Some-college               10   \n",
       "898   37  Local-gov   44694       Masters               14   \n",
       "\n",
       "         marital-status      occupation relationship   race  gender  \\\n",
       "894  Married-civ-spouse  Prof-specialty      Husband  White    Male   \n",
       "895       Never-married           Sales    Own-child  White  Female   \n",
       "896       Never-married    Adm-clerical    Own-child  White  Female   \n",
       "897  Married-civ-spouse    Tech-support      Husband  White    Male   \n",
       "898  Married-civ-spouse  Prof-specialty         Wife  White  Female   \n",
       "\n",
       "     capital-gain  capital-loss  hours-per-week native-country  income_>50K  \n",
       "894             0             0              55  United-States          NaN  \n",
       "895             0             0              20  United-States          NaN  \n",
       "896             0             0              40  United-States          NaN  \n",
       "897             0             0              40  United-States          NaN  \n",
       "898             0             0              45  United-States          NaN  "
      ]
     },
     "execution_count": 150,
     "metadata": {},
     "output_type": "execute_result"
    }
   ],
   "source": [
    "final_df.tail() ##ending of the data. here can observe NaN values due to test dataset"
   ]
  },
  {
   "cell_type": "code",
   "execution_count": 151,
   "id": "bc3c9cf7",
   "metadata": {},
   "outputs": [],
   "source": [
    "#df.isnull().sum()"
   ]
  },
  {
   "cell_type": "code",
   "execution_count": 152,
   "id": "49a11002",
   "metadata": {},
   "outputs": [
    {
     "data": {
      "text/plain": [
       "array(['United-States', 'Japan', 'South', 'Portugal', 'Italy', 'Mexico',\n",
       "       'Ecuador', 'England', 'Philippines', 'China', 'Germany', nan,\n",
       "       'Dominican-Republic', 'Jamaica', 'Vietnam', 'Thailand',\n",
       "       'Puerto-Rico', 'Cuba', 'India', 'Cambodia', 'Yugoslavia', 'Iran',\n",
       "       'El-Salvador', 'Poland', 'Greece', 'Ireland', 'Canada',\n",
       "       'Guatemala', 'Scotland', 'Columbia', 'Outlying-US(Guam-USVI-etc)',\n",
       "       'Haiti', 'Peru', 'Nicaragua', 'Taiwan', 'France',\n",
       "       'Trinadad&Tobago', 'Laos', 'Hungary', 'Honduras', 'Hong',\n",
       "       'Holand-Netherlands'], dtype=object)"
      ]
     },
     "execution_count": 152,
     "metadata": {},
     "output_type": "execute_result"
    }
   ],
   "source": [
    "#we can see that there are many null values, let us visualize it\n",
    "final_df['occupation'].unique()\n",
    "final_df['workclass'].unique()\n",
    "final_df['income_>50K'].unique()\n",
    "final_df['native-country'].unique()\n",
    "#,'workclass','native-country'"
   ]
  },
  {
   "cell_type": "code",
   "execution_count": 153,
   "id": "f69002da",
   "metadata": {},
   "outputs": [
    {
     "data": {
      "text/plain": [
       "<AxesSubplot:>"
      ]
     },
     "execution_count": 153,
     "metadata": {},
     "output_type": "execute_result"
    },
    {
     "data": {
      "image/png": "[encoded data removed]",
      "text/plain": [
       "<Figure size 640x480 with 1 Axes>"
      ]
     },
     "metadata": {},
     "output_type": "display_data"
    }
   ],
   "source": [
    "sns.heatmap(final_df.isnull(),yticklabels=False,cbar=False,cmap='viridis')"
   ]
  },
  {
   "cell_type": "markdown",
   "id": "bb6722a6",
   "metadata": {},
   "source": [
    "since this is not a reall world problem, we are simply filling the workclass/occupation with data from previou as forward and backward fill"
   ]
  },
  {
   "cell_type": "markdown",
   "id": "a4f2d3b4",
   "metadata": {},
   "source": [
    "This causes inaccurate results. Since the missing values are comparable and they are not affceting the main salary, we are "
   ]
  },
  {
   "cell_type": "code",
   "execution_count": 154,
   "id": "873a1486",
   "metadata": {},
   "outputs": [
    {
     "data": {
      "text/plain": [
       "0      1.0\n",
       "1      0.0\n",
       "2      1.0\n",
       "3      0.0\n",
       "4      0.0\n",
       "      ... \n",
       "894    0.0\n",
       "895    0.0\n",
       "896    0.0\n",
       "897    0.0\n",
       "898    0.0\n",
       "Name: income_>50K, Length: 44856, dtype: float64"
      ]
     },
     "execution_count": 154,
     "metadata": {},
     "output_type": "execute_result"
    }
   ],
   "source": [
    "final_df['income_>50K'].fillna(final_df['income_>50K'].ffill(), inplace = True)\n",
    "final_df['income_>50K']\n",
    "\n",
    "#this can be backwardfill as well using the below for other values\n",
    "#final_df['workclass'].bfill()\n",
    "#final_df['occupation'].bfill()\n",
    "#final_df['native-country'].bfill()"
   ]
  },
  {
   "cell_type": "code",
   "execution_count": 155,
   "id": "151af02c",
   "metadata": {},
   "outputs": [
    {
     "data": {
      "text/plain": [
       "<AxesSubplot:>"
      ]
     },
     "execution_count": 155,
     "metadata": {},
     "output_type": "execute_result"
    },
    {
     "data": {
      "image/png": "[encoded data removed]",
      "text/plain": [
       "<Figure size 640x480 with 1 Axes>"
      ]
     },
     "metadata": {},
     "output_type": "display_data"
    }
   ],
   "source": [
    "sns.heatmap(final_df.isnull(),yticklabels=False,cbar=False,cmap='viridis')"
   ]
  },
  {
   "cell_type": "code",
   "execution_count": 156,
   "id": "289fe78b",
   "metadata": {},
   "outputs": [
    {
     "data": {
      "text/plain": [
       "age                   0\n",
       "workclass          2498\n",
       "fnlwgt                0\n",
       "education             0\n",
       "educational-num       0\n",
       "marital-status        0\n",
       "occupation         2506\n",
       "relationship          0\n",
       "race                  0\n",
       "gender                0\n",
       "capital-gain          0\n",
       "capital-loss          0\n",
       "hours-per-week        0\n",
       "native-country      763\n",
       "income_>50K           0\n",
       "dtype: int64"
      ]
     },
     "execution_count": 156,
     "metadata": {},
     "output_type": "execute_result"
    }
   ],
   "source": [
    "final_df.isnull().sum()"
   ]
  },
  {
   "cell_type": "code",
   "execution_count": 157,
   "id": "4d4b7221",
   "metadata": {},
   "outputs": [
    {
     "data": {
      "text/plain": [
       "0      3\n",
       "1      3\n",
       "2      3\n",
       "3      6\n",
       "4      6\n",
       "      ..\n",
       "894    3\n",
       "895    3\n",
       "896    3\n",
       "897    3\n",
       "898    1\n",
       "Name: workclass, Length: 44856, dtype: int8"
      ]
     },
     "execution_count": 157,
     "metadata": {},
     "output_type": "execute_result"
    }
   ],
   "source": [
    "final_df['workclass'] = final_df['workclass'].astype('category')\n",
    "final_df['workclass'] = final_df['workclass'].cat.codes\n",
    "final_df['workclass']\n",
    "\n",
    "\n",
    "##for null values with categorical data converting the datatype and fill in values of median. here I considered education and education-nuum"
   ]
  },
  {
   "cell_type": "code",
   "execution_count": 158,
   "id": "1ed4626b",
   "metadata": {},
   "outputs": [],
   "source": [
    "final_df['workclass'] = final_df['workclass'].fillna(final_df.groupby(['education', 'educational-num'])['workclass'].transform('median'))"
   ]
  },
  {
   "cell_type": "code",
   "execution_count": 159,
   "id": "ce9e4a6c",
   "metadata": {},
   "outputs": [],
   "source": [
    "final_df['occupation'] = final_df['occupation'].astype('category')\n",
    "final_df['occupation'] = final_df['occupation'].cat.codes\n",
    "final_df['occupation']\n",
    "\n",
    "final_df['occupation'] = final_df['occupation'].fillna(final_df.groupby(['education', 'educational-num'])['occupation'].transform('median'))"
   ]
  },
  {
   "cell_type": "code",
   "execution_count": 160,
   "id": "85a4a6ac",
   "metadata": {},
   "outputs": [],
   "source": [
    "final_df['native-country'] = final_df['native-country'].astype('category')\n",
    "final_df['native-country'] = final_df['native-country'].cat.codes\n",
    "final_df['native-country']\n",
    "\n",
    "final_df['native-country'] = final_df['native-country'].fillna(final_df.groupby(['education', 'educational-num'])['native-country'].transform('median'))"
   ]
  },
  {
   "cell_type": "code",
   "execution_count": 161,
   "id": "1574edf4",
   "metadata": {},
   "outputs": [
    {
     "data": {
      "text/plain": [
       "age                0\n",
       "workclass          0\n",
       "fnlwgt             0\n",
       "education          0\n",
       "educational-num    0\n",
       "marital-status     0\n",
       "occupation         0\n",
       "relationship       0\n",
       "race               0\n",
       "gender             0\n",
       "capital-gain       0\n",
       "capital-loss       0\n",
       "hours-per-week     0\n",
       "native-country     0\n",
       "income_>50K        0\n",
       "dtype: int64"
      ]
     },
     "execution_count": 161,
     "metadata": {},
     "output_type": "execute_result"
    }
   ],
   "source": [
    "final_df.isnull().sum()"
   ]
  },
  {
   "cell_type": "code",
   "execution_count": 162,
   "id": "dc0c921e",
   "metadata": {},
   "outputs": [
    {
     "data": {
      "text/plain": [
       "workclass  native-country\n",
       "-1         -1                39\n",
       "            0                 2\n",
       "            1                19\n",
       "            2                 7\n",
       "            3                 3\n",
       "dtype: int64"
      ]
     },
     "execution_count": 162,
     "metadata": {},
     "output_type": "execute_result"
    }
   ],
   "source": [
    "final_df.groupby(['workclass','native-country']).size().head()"
   ]
  },
  {
   "cell_type": "code",
   "execution_count": 163,
   "id": "e2d3cc94",
   "metadata": {},
   "outputs": [
    {
     "data": {
      "text/plain": [
       "<AxesSubplot:xlabel='workclass', ylabel='count'>"
      ]
     },
     "execution_count": 163,
     "metadata": {},
     "output_type": "execute_result"
    },
    {
     "data": {
      "image/png": "[encoded data removed]",
      "text/plain": [
       "<Figure size 640x480 with 1 Axes>"
      ]
     },
     "metadata": {},
     "output_type": "display_data"
    }
   ],
   "source": [
    "sns.countplot(x=\"workclass\",data=final_df)"
   ]
  },
  {
   "cell_type": "code",
   "execution_count": 164,
   "id": "3e540652",
   "metadata": {},
   "outputs": [
    {
     "data": {
      "text/plain": [
       "<AxesSubplot:xlabel='occupation', ylabel='count'>"
      ]
     },
     "execution_count": 164,
     "metadata": {},
     "output_type": "execute_result"
    },
    {
     "data": {
      "image/png": "[encoded data removed]",
      "text/plain": [
       "<Figure size 640x480 with 1 Axes>"
      ]
     },
     "metadata": {},
     "output_type": "display_data"
    }
   ],
   "source": [
    "sns.countplot(x=\"occupation\",data=final_df)"
   ]
  },
  {
   "cell_type": "code",
   "execution_count": 165,
   "id": "7e8c7a15",
   "metadata": {},
   "outputs": [
    {
     "name": "stdout",
     "output_type": "stream",
     "text": [
      "<class 'pandas.core.frame.DataFrame'>\n",
      "Int64Index: 44856 entries, 0 to 898\n",
      "Data columns (total 15 columns):\n",
      " #   Column           Non-Null Count  Dtype  \n",
      "---  ------           --------------  -----  \n",
      " 0   age              44856 non-null  int64  \n",
      " 1   workclass        44856 non-null  int8   \n",
      " 2   fnlwgt           44856 non-null  int64  \n",
      " 3   education        44856 non-null  object \n",
      " 4   educational-num  44856 non-null  int64  \n",
      " 5   marital-status   44856 non-null  object \n",
      " 6   occupation       44856 non-null  int8   \n",
      " 7   relationship     44856 non-null  object \n",
      " 8   race             44856 non-null  object \n",
      " 9   gender           44856 non-null  object \n",
      " 10  capital-gain     44856 non-null  int64  \n",
      " 11  capital-loss     44856 non-null  int64  \n",
      " 12  hours-per-week   44856 non-null  int64  \n",
      " 13  native-country   44856 non-null  int8   \n",
      " 14  income_>50K      44856 non-null  float64\n",
      "dtypes: float64(1), int64(6), int8(3), object(5)\n",
      "memory usage: 5.6+ MB\n"
     ]
    }
   ],
   "source": [
    "final_df.info()"
   ]
  },
  {
   "cell_type": "code",
   "execution_count": 166,
   "id": "1ce3a5ac",
   "metadata": {},
   "outputs": [
    {
     "data": {
      "text/html": [
       "<div>\n",
       "<style scoped>\n",
       "    .dataframe tbody tr th:only-of-type {\n",
       "        vertical-align: middle;\n",
       "    }\n",
       "\n",
       "    .dataframe tbody tr th {\n",
       "        vertical-align: top;\n",
       "    }\n",
       "\n",
       "    .dataframe thead th {\n",
       "        text-align: right;\n",
       "    }\n",
       "</style>\n",
       "<table border=\"1\" class=\"dataframe\">\n",
       "  <thead>\n",
       "    <tr style=\"text-align: right;\">\n",
       "      <th></th>\n",
       "      <th>age</th>\n",
       "      <th>workclass</th>\n",
       "      <th>fnlwgt</th>\n",
       "      <th>education</th>\n",
       "      <th>educational-num</th>\n",
       "      <th>marital-status</th>\n",
       "      <th>occupation</th>\n",
       "      <th>relationship</th>\n",
       "      <th>race</th>\n",
       "      <th>gender</th>\n",
       "      <th>capital-gain</th>\n",
       "      <th>capital-loss</th>\n",
       "      <th>hours-per-week</th>\n",
       "      <th>native-country</th>\n",
       "      <th>income_&gt;50K</th>\n",
       "    </tr>\n",
       "  </thead>\n",
       "  <tbody>\n",
       "    <tr>\n",
       "      <th>0</th>\n",
       "      <td>67</td>\n",
       "      <td>3</td>\n",
       "      <td>366425</td>\n",
       "      <td>10</td>\n",
       "      <td>16</td>\n",
       "      <td>0</td>\n",
       "      <td>3</td>\n",
       "      <td>1</td>\n",
       "      <td>4</td>\n",
       "      <td>1</td>\n",
       "      <td>99999</td>\n",
       "      <td>0</td>\n",
       "      <td>60</td>\n",
       "      <td>38</td>\n",
       "      <td>1.0</td>\n",
       "    </tr>\n",
       "    <tr>\n",
       "      <th>1</th>\n",
       "      <td>17</td>\n",
       "      <td>3</td>\n",
       "      <td>244602</td>\n",
       "      <td>2</td>\n",
       "      <td>8</td>\n",
       "      <td>4</td>\n",
       "      <td>7</td>\n",
       "      <td>3</td>\n",
       "      <td>4</td>\n",
       "      <td>1</td>\n",
       "      <td>0</td>\n",
       "      <td>0</td>\n",
       "      <td>15</td>\n",
       "      <td>38</td>\n",
       "      <td>0.0</td>\n",
       "    </tr>\n",
       "    <tr>\n",
       "      <th>2</th>\n",
       "      <td>31</td>\n",
       "      <td>3</td>\n",
       "      <td>174201</td>\n",
       "      <td>9</td>\n",
       "      <td>13</td>\n",
       "      <td>2</td>\n",
       "      <td>3</td>\n",
       "      <td>0</td>\n",
       "      <td>4</td>\n",
       "      <td>1</td>\n",
       "      <td>0</td>\n",
       "      <td>0</td>\n",
       "      <td>40</td>\n",
       "      <td>38</td>\n",
       "      <td>1.0</td>\n",
       "    </tr>\n",
       "    <tr>\n",
       "      <th>3</th>\n",
       "      <td>58</td>\n",
       "      <td>6</td>\n",
       "      <td>110199</td>\n",
       "      <td>5</td>\n",
       "      <td>4</td>\n",
       "      <td>2</td>\n",
       "      <td>13</td>\n",
       "      <td>0</td>\n",
       "      <td>4</td>\n",
       "      <td>1</td>\n",
       "      <td>0</td>\n",
       "      <td>0</td>\n",
       "      <td>40</td>\n",
       "      <td>38</td>\n",
       "      <td>0.0</td>\n",
       "    </tr>\n",
       "    <tr>\n",
       "      <th>4</th>\n",
       "      <td>25</td>\n",
       "      <td>6</td>\n",
       "      <td>149248</td>\n",
       "      <td>15</td>\n",
       "      <td>10</td>\n",
       "      <td>4</td>\n",
       "      <td>7</td>\n",
       "      <td>1</td>\n",
       "      <td>2</td>\n",
       "      <td>1</td>\n",
       "      <td>0</td>\n",
       "      <td>0</td>\n",
       "      <td>40</td>\n",
       "      <td>38</td>\n",
       "      <td>0.0</td>\n",
       "    </tr>\n",
       "  </tbody>\n",
       "</table>\n",
       "</div>"
      ],
      "text/plain": [
       "   age  workclass  fnlwgt  education  educational-num  marital-status  \\\n",
       "0   67          3  366425         10               16               0   \n",
       "1   17          3  244602          2                8               4   \n",
       "2   31          3  174201          9               13               2   \n",
       "3   58          6  110199          5                4               2   \n",
       "4   25          6  149248         15               10               4   \n",
       "\n",
       "   occupation  relationship  race  gender  capital-gain  capital-loss  \\\n",
       "0           3             1     4       1         99999             0   \n",
       "1           7             3     4       1             0             0   \n",
       "2           3             0     4       1             0             0   \n",
       "3          13             0     4       1             0             0   \n",
       "4           7             1     2       1             0             0   \n",
       "\n",
       "   hours-per-week  native-country  income_>50K  \n",
       "0              60              38          1.0  \n",
       "1              15              38          0.0  \n",
       "2              40              38          1.0  \n",
       "3              40              38          0.0  \n",
       "4              40              38          0.0  "
      ]
     },
     "execution_count": 166,
     "metadata": {},
     "output_type": "execute_result"
    }
   ],
   "source": [
    "le = LabelEncoder()\n",
    "  \n",
    "for col in final_df.columns:\n",
    "  if final_df[col].dtype == object:\n",
    "    final_df[col] = le.fit_transform(final_df[col])\n",
    "  \n",
    "final_df.head()"
   ]
  },
  {
   "cell_type": "code",
   "execution_count": 167,
   "id": "e60786fa",
   "metadata": {},
   "outputs": [
    {
     "name": "stdout",
     "output_type": "stream",
     "text": [
      "<class 'pandas.core.frame.DataFrame'>\n",
      "Int64Index: 44856 entries, 0 to 898\n",
      "Data columns (total 15 columns):\n",
      " #   Column           Non-Null Count  Dtype  \n",
      "---  ------           --------------  -----  \n",
      " 0   age              44856 non-null  int64  \n",
      " 1   workclass        44856 non-null  int8   \n",
      " 2   fnlwgt           44856 non-null  int64  \n",
      " 3   education        44856 non-null  int32  \n",
      " 4   educational-num  44856 non-null  int64  \n",
      " 5   marital-status   44856 non-null  int32  \n",
      " 6   occupation       44856 non-null  int8   \n",
      " 7   relationship     44856 non-null  int32  \n",
      " 8   race             44856 non-null  int32  \n",
      " 9   gender           44856 non-null  int32  \n",
      " 10  capital-gain     44856 non-null  int64  \n",
      " 11  capital-loss     44856 non-null  int64  \n",
      " 12  hours-per-week   44856 non-null  int64  \n",
      " 13  native-country   44856 non-null  int8   \n",
      " 14  income_>50K      44856 non-null  float64\n",
      "dtypes: float64(1), int32(5), int64(6), int8(3)\n",
      "memory usage: 4.7 MB\n"
     ]
    }
   ],
   "source": [
    "final_df.info()"
   ]
  },
  {
   "cell_type": "code",
   "execution_count": 168,
   "id": "738d05d1",
   "metadata": {},
   "outputs": [],
   "source": [
    "from sklearn.preprocessing import StandardScaler, LabelEncoder\n",
    "\n",
    "# Logistic Regression\n",
    "from sklearn.linear_model import LogisticRegression\n",
    "\n",
    "# Support Vector Machines\n",
    "from sklearn.svm import LinearSVC\n",
    "\n",
    "# Decision Trees\n",
    "from sklearn.tree import DecisionTreeClassifier\n",
    "\n",
    "# Random Forest\n",
    "from sklearn.ensemble import RandomForestClassifier\n",
    "\n",
    "# Naive Bayes\n",
    "from sklearn.naive_bayes import GaussianNB\n",
    "\n",
    "# K-Nearest Neighbors\n",
    "from sklearn.neighbors import KNeighborsClassifier\n"
   ]
  },
  {
   "cell_type": "code",
   "execution_count": 169,
   "id": "2f467d11",
   "metadata": {},
   "outputs": [
    {
     "data": {
      "text/plain": [
       "((35884, 14), (8972, 14))"
      ]
     },
     "execution_count": 169,
     "metadata": {},
     "output_type": "execute_result"
    }
   ],
   "source": [
    "#now there are no null values, though data might not be accurate, it provides an estimate\n",
    " #lets go into modelling the dataset\n",
    "    #modelling the dataset\n",
    "#features\n",
    "X= final_df.drop('income_>50K', axis=1)\n",
    "#target\n",
    "y= final_df['income_>50K']\n",
    "  \n",
    "X_train, X_test, y_train, y_test = train_test_split(X, y, test_size=0.2, random_state=22)\n",
    "X_train.shape, X_test.shape"
   ]
  },
  {
   "cell_type": "code",
   "execution_count": 170,
   "id": "6f9c2968",
   "metadata": {},
   "outputs": [],
   "source": [
    "models = [ LinearSVC(), DecisionTreeClassifier(), RandomForestClassifier(), GaussianNB(),KNeighborsClassifier()]\n",
    " "
   ]
  },
  {
   "cell_type": "code",
   "execution_count": 171,
   "id": "66fe4b49",
   "metadata": {},
   "outputs": [
    {
     "name": "stderr",
     "output_type": "stream",
     "text": [
      "C:\\Users\\LENOVO\\Anaconda3\\lib\\site-packages\\sklearn\\svm\\_base.py:1208: ConvergenceWarning: Liblinear failed to converge, increase the number of iterations.\n",
      "  ConvergenceWarning,\n"
     ]
    }
   ],
   "source": [
    "from sklearn.metrics import accuracy_score, precision_score, recall_score\n",
    "\n",
    "accuracy, precision, recall = {}, {}, {}\n",
    "\n",
    "for i in range(5):\n",
    "    \n",
    "    # Fit the classifier\n",
    "    models[i].fit(X_train, y_train)\n",
    "    \n",
    "    # Make predictions\n",
    "    predictions = models[i].predict(X_test)\n",
    "    \n",
    "    # Calculate metrics\n",
    "    accuracy[i] = accuracy_score(predictions, y_test)\n",
    "    precision[i] = precision_score(predictions, y_test)\n",
    "    recall[i] = recall_score(predictions, y_test)"
   ]
  },
  {
   "cell_type": "code",
   "execution_count": 172,
   "id": "c5df940d",
   "metadata": {
    "scrolled": true
   },
   "outputs": [
    {
     "data": {
      "text/html": [
       "<div>\n",
       "<style scoped>\n",
       "    .dataframe tbody tr th:only-of-type {\n",
       "        vertical-align: middle;\n",
       "    }\n",
       "\n",
       "    .dataframe tbody tr th {\n",
       "        vertical-align: top;\n",
       "    }\n",
       "\n",
       "    .dataframe thead th {\n",
       "        text-align: right;\n",
       "    }\n",
       "</style>\n",
       "<table border=\"1\" class=\"dataframe\">\n",
       "  <thead>\n",
       "    <tr style=\"text-align: right;\">\n",
       "      <th></th>\n",
       "      <th>Accuracy</th>\n",
       "      <th>Precision</th>\n",
       "      <th>Recall</th>\n",
       "    </tr>\n",
       "  </thead>\n",
       "  <tbody>\n",
       "    <tr>\n",
       "      <th>LinearSVC()</th>\n",
       "      <td>0.792911</td>\n",
       "      <td>0.125652</td>\n",
       "      <td>0.949821</td>\n",
       "    </tr>\n",
       "    <tr>\n",
       "      <th>DecisionTreeClassifier()</th>\n",
       "      <td>0.805952</td>\n",
       "      <td>0.608345</td>\n",
       "      <td>0.583712</td>\n",
       "    </tr>\n",
       "    <tr>\n",
       "      <th>(DecisionTreeClassifier(max_features='auto', random_state=1114497960), DecisionTreeClassifier(max_features='auto', random_state=839575296), DecisionTreeClassifier(max_features='auto', random_state=1263811113), DecisionTreeClassifier(max_features='auto', random_state=2099810872), DecisionTreeClassifier(max_features='auto', random_state=1516652439), DecisionTreeClassifier(max_features='auto', random_state=1687852832), DecisionTreeClassifier(max_features='auto', random_state=2116047936), DecisionTreeClassifier(max_features='auto', random_state=1093202801), DecisionTreeClassifier(max_features='auto', random_state=656497660), DecisionTreeClassifier(max_features='auto', random_state=1836887073), DecisionTreeClassifier(max_features='auto', random_state=919856070), DecisionTreeClassifier(max_features='auto', random_state=534462278), DecisionTreeClassifier(max_features='auto', random_state=1839115930), DecisionTreeClassifier(max_features='auto', random_state=177820266), DecisionTreeClassifier(max_features='auto', random_state=1084344448), DecisionTreeClassifier(max_features='auto', random_state=1279939165), DecisionTreeClassifier(max_features='auto', random_state=787139356), DecisionTreeClassifier(max_features='auto', random_state=522021813), DecisionTreeClassifier(max_features='auto', random_state=1695117574), DecisionTreeClassifier(max_features='auto', random_state=1270860634), DecisionTreeClassifier(max_features='auto', random_state=1833433017), DecisionTreeClassifier(max_features='auto', random_state=144724557), DecisionTreeClassifier(max_features='auto', random_state=1357292167), DecisionTreeClassifier(max_features='auto', random_state=221929970), DecisionTreeClassifier(max_features='auto', random_state=409748447), DecisionTreeClassifier(max_features='auto', random_state=682828789), DecisionTreeClassifier(max_features='auto', random_state=848355404), DecisionTreeClassifier(max_features='auto', random_state=1239267550), DecisionTreeClassifier(max_features='auto', random_state=1438065379), DecisionTreeClassifier(max_features='auto', random_state=2097624560), DecisionTreeClassifier(max_features='auto', random_state=1052555529), DecisionTreeClassifier(max_features='auto', random_state=789691275), DecisionTreeClassifier(max_features='auto', random_state=92716113), DecisionTreeClassifier(max_features='auto', random_state=1296155984), DecisionTreeClassifier(max_features='auto', random_state=541825268), DecisionTreeClassifier(max_features='auto', random_state=1021556881), DecisionTreeClassifier(max_features='auto', random_state=1019364566), DecisionTreeClassifier(max_features='auto', random_state=143713255), DecisionTreeClassifier(max_features='auto', random_state=1847880672), DecisionTreeClassifier(max_features='auto', random_state=753800437), DecisionTreeClassifier(max_features='auto', random_state=1636146696), DecisionTreeClassifier(max_features='auto', random_state=768840198), DecisionTreeClassifier(max_features='auto', random_state=2091907117), DecisionTreeClassifier(max_features='auto', random_state=1261225916), DecisionTreeClassifier(max_features='auto', random_state=355402890), DecisionTreeClassifier(max_features='auto', random_state=529127908), DecisionTreeClassifier(max_features='auto', random_state=1615542646), DecisionTreeClassifier(max_features='auto', random_state=1888885826), DecisionTreeClassifier(max_features='auto', random_state=435145850), DecisionTreeClassifier(max_features='auto', random_state=1354594764), DecisionTreeClassifier(max_features='auto', random_state=1393834798), DecisionTreeClassifier(max_features='auto', random_state=279361166), DecisionTreeClassifier(max_features='auto', random_state=639211896), DecisionTreeClassifier(max_features='auto', random_state=1972583010), DecisionTreeClassifier(max_features='auto', random_state=1586761115), DecisionTreeClassifier(max_features='auto', random_state=1791941095), DecisionTreeClassifier(max_features='auto', random_state=823379645), DecisionTreeClassifier(max_features='auto', random_state=589198101), DecisionTreeClassifier(max_features='auto', random_state=1624505366), DecisionTreeClassifier(max_features='auto', random_state=182279966), DecisionTreeClassifier(max_features='auto', random_state=1295506773), DecisionTreeClassifier(max_features='auto', random_state=1038883205), DecisionTreeClassifier(max_features='auto', random_state=2146322996), DecisionTreeClassifier(max_features='auto', random_state=1278360834), DecisionTreeClassifier(max_features='auto', random_state=1591761712), DecisionTreeClassifier(max_features='auto', random_state=412770194), DecisionTreeClassifier(max_features='auto', random_state=893880338), DecisionTreeClassifier(max_features='auto', random_state=706162996), DecisionTreeClassifier(max_features='auto', random_state=203631369), DecisionTreeClassifier(max_features='auto', random_state=146177956), DecisionTreeClassifier(max_features='auto', random_state=620440959), DecisionTreeClassifier(max_features='auto', random_state=2060104330), DecisionTreeClassifier(max_features='auto', random_state=1270998767), DecisionTreeClassifier(max_features='auto', random_state=1143023342), DecisionTreeClassifier(max_features='auto', random_state=588380048), DecisionTreeClassifier(max_features='auto', random_state=1640317679), DecisionTreeClassifier(max_features='auto', random_state=119833486), DecisionTreeClassifier(max_features='auto', random_state=2014680072), DecisionTreeClassifier(max_features='auto', random_state=859336096), DecisionTreeClassifier(max_features='auto', random_state=156572408), DecisionTreeClassifier(max_features='auto', random_state=1489544684), DecisionTreeClassifier(max_features='auto', random_state=1054355499), DecisionTreeClassifier(max_features='auto', random_state=647893444), DecisionTreeClassifier(max_features='auto', random_state=460009515), DecisionTreeClassifier(max_features='auto', random_state=138826360), DecisionTreeClassifier(max_features='auto', random_state=787480359), DecisionTreeClassifier(max_features='auto', random_state=423429948), DecisionTreeClassifier(max_features='auto', random_state=1295822718), DecisionTreeClassifier(max_features='auto', random_state=2017345427), DecisionTreeClassifier(max_features='auto', random_state=1189697251), DecisionTreeClassifier(max_features='auto', random_state=1952204530), DecisionTreeClassifier(max_features='auto', random_state=92809539), DecisionTreeClassifier(max_features='auto', random_state=1732409376), DecisionTreeClassifier(max_features='auto', random_state=950242254), DecisionTreeClassifier(max_features='auto', random_state=517103395), DecisionTreeClassifier(max_features='auto', random_state=1618484834), DecisionTreeClassifier(max_features='auto', random_state=1201358177), DecisionTreeClassifier(max_features='auto', random_state=942349034), DecisionTreeClassifier(max_features='auto', random_state=1968342401), DecisionTreeClassifier(max_features='auto', random_state=2097538304))</th>\n",
       "      <td>0.857222</td>\n",
       "      <td>0.608819</td>\n",
       "      <td>0.737931</td>\n",
       "    </tr>\n",
       "    <tr>\n",
       "      <th>GaussianNB()</th>\n",
       "      <td>0.797370</td>\n",
       "      <td>0.301091</td>\n",
       "      <td>0.648621</td>\n",
       "    </tr>\n",
       "    <tr>\n",
       "      <th>KNeighborsClassifier()</th>\n",
       "      <td>0.780762</td>\n",
       "      <td>0.328592</td>\n",
       "      <td>0.557074</td>\n",
       "    </tr>\n",
       "  </tbody>\n",
       "</table>\n",
       "</div>"
      ],
      "text/plain": [
       "                                                    Accuracy  Precision  \\\n",
       "LinearSVC()                                         0.792911   0.125652   \n",
       "DecisionTreeClassifier()                            0.805952   0.608345   \n",
       "(DecisionTreeClassifier(max_features='auto', ra...  0.857222   0.608819   \n",
       "GaussianNB()                                        0.797370   0.301091   \n",
       "KNeighborsClassifier()                              0.780762   0.328592   \n",
       "\n",
       "                                                      Recall  \n",
       "LinearSVC()                                         0.949821  \n",
       "DecisionTreeClassifier()                            0.583712  \n",
       "(DecisionTreeClassifier(max_features='auto', ra...  0.737931  \n",
       "GaussianNB()                                        0.648621  \n",
       "KNeighborsClassifier()                              0.557074  "
      ]
     },
     "execution_count": 172,
     "metadata": {},
     "output_type": "execute_result"
    }
   ],
   "source": [
    "df_model = pd.DataFrame(index=models, columns=['Accuracy', 'Precision', 'Recall'])\n",
    "df_model['Accuracy'] = accuracy.values()\n",
    "df_model['Precision'] = precision.values()\n",
    "df_model['Recall'] = recall.values()\n",
    "\n",
    "df_model"
   ]
  },
  {
   "cell_type": "code",
   "execution_count": null,
   "id": "e147070d",
   "metadata": {},
   "outputs": [],
   "source": []
  }
 ],
 "metadata": {
  "kernelspec": {
   "display_name": "Python 3 (ipykernel)",
   "language": "python",
   "name": "python3"
  },
  "language_info": {
   "codemirror_mode": {
    "name": "ipython",
    "version": 3
   },
   "file_extension": ".py",
   "mimetype": "text/x-python",
   "name": "python",
   "nbconvert_exporter": "python",
   "pygments_lexer": "ipython3",
   "version": "3.7.16"
  }
 },
 "nbformat": 4,
 "nbformat_minor": 5
}
